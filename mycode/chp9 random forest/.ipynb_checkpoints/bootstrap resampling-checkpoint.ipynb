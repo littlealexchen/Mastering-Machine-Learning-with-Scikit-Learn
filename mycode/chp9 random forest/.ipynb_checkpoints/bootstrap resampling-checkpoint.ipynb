{
 "cells": [
  {
   "cell_type": "code",
   "execution_count": 1,
   "metadata": {},
   "outputs": [],
   "source": [
    "import numpy as np"
   ]
  },
  {
   "cell_type": "code",
   "execution_count": 2,
   "metadata": {},
   "outputs": [
    {
     "name": "stdout",
     "output_type": "stream",
     "text": [
      "Original sample: [82 47 51 98 12 79 20 68 97 31]\n",
      "Sample mean: 58.5\n"
     ]
    }
   ],
   "source": [
    "sample = np.random.randint(low=1, high=100, size=10)\n",
    "print('Original sample: %s' % sample)\n",
    "print('Sample mean: %s' % sample.mean())"
   ]
  },
  {
   "cell_type": "code",
   "execution_count": 3,
   "metadata": {},
   "outputs": [
    {
     "name": "stdout",
     "output_type": "stream",
     "text": [
      "Number of bootstrap re-samples: 100\n",
      "Example re-sample: [82 20 31 68 79 98 51 47 79 79]\n"
     ]
    }
   ],
   "source": [
    "resamples = [np.random.choice(sample, size=sample.shape) for i in range(100)]\n",
    "print('Number of bootstrap re-samples: %s' % len(resamples))\n",
    "print('Example re-sample: %s' % resamples[0])"
   ]
  },
  {
   "cell_type": "code",
   "execution_count": 4,
   "metadata": {},
   "outputs": [
    {
     "name": "stdout",
     "output_type": "stream",
     "text": [
      "Mean of re-samples' means:59.819\n"
     ]
    }
   ],
   "source": [
    "resample_means = np.array([resample.mean() for resample in resamples])\n",
    "print('Mean of re-samples\\' means:%s' % resample_means.mean())"
   ]
  },
  {
   "cell_type": "code",
   "execution_count": null,
   "metadata": {},
   "outputs": [],
   "source": []
  }
 ],
 "metadata": {
  "kernelspec": {
   "display_name": "Python 3",
   "language": "python",
   "name": "python3"
  },
  "language_info": {
   "codemirror_mode": {
    "name": "ipython",
    "version": 3
   },
   "file_extension": ".py",
   "mimetype": "text/x-python",
   "name": "python",
   "nbconvert_exporter": "python",
   "pygments_lexer": "ipython3",
   "version": "3.7.3"
  }
 },
 "nbformat": 4,
 "nbformat_minor": 2
}
